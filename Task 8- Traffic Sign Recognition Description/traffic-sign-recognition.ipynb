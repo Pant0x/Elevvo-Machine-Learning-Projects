{
 "cells": [
  {
   "cell_type": "markdown",
   "metadata": {},
   "source": [
    "Traffic Sign Recognition Description + BONUS"
   ]
  },
  {
   "cell_type": "code",
   "execution_count": null,
   "metadata": {},
   "outputs": [],
   "source": [
    "\n",
    "import os\n",
    "import numpy as np\n",
    "import tensorflow as tf\n",
    "from tensorflow import keras\n",
    "from tensorflow.keras import layers\n",
    "from sklearn.metrics import confusion_matrix, classification_report\n",
    "import matplotlib.pyplot as plt\n",
    "import seaborn as sns\n",
    "\n",
    "os.environ[\"TF_CPP_MIN_LOG_LEVEL\"] = \"2\"\n"
   ]
  },
  {
   "cell_type": "code",
   "execution_count": null,
   "metadata": {},
   "outputs": [
    {
     "name": "stdout",
     "output_type": "stream",
     "text": [
      "Training folder: Data\\Train\n"
     ]
    }
   ],
   "source": [
    "DATA_ROOT = \"Data\"\n",
    "TRAIN_DIR = os.path.join(DATA_ROOT, \"Train\")\n",
    "TEST_DIR = os.path.join(DATA_ROOT, \"Test\")\n",
    "\n",
    "if not os.path.isdir(TRAIN_DIR):\n",
    "    raise RuntimeError(f\"Train folder not found at {TRAIN_DIR}\")\n",
    "if not os.path.isdir(TEST_DIR):\n",
    "    print(f\"Warning: Test folder not found at {TEST_DIR}, only training will be done\")\n",
    "\n",
    "print(\"Training folder:\", TRAIN_DIR)\n"
   ]
  },
  {
   "cell_type": "code",
   "execution_count": null,
   "metadata": {},
   "outputs": [
    {
     "name": "stdout",
     "output_type": "stream",
     "text": [
      "Found 39209 files belonging to 43 classes.\n",
      "Using 31368 files for training.\n",
      "Found 39209 files belonging to 43 classes.\n",
      "Using 7841 files for validation.\n",
      "Classes: 43 ['0', '1', '10', '11', '12', '13', '14', '15', '16', '17']\n"
     ]
    }
   ],
   "source": [
    "IMG_SIZE = (128, 128)\n",
    "BATCH_SIZE = 64\n",
    "SEED = 42\n",
    "\n",
    "train_ds = tf.keras.utils.image_dataset_from_directory(\n",
    "    TRAIN_DIR,\n",
    "    validation_split=0.2,\n",
    "    subset=\"training\",\n",
    "    seed=SEED,\n",
    "    image_size=IMG_SIZE,\n",
    "    batch_size=BATCH_SIZE\n",
    ")\n",
    "val_ds = tf.keras.utils.image_dataset_from_directory(\n",
    "    TRAIN_DIR,\n",
    "    validation_split=0.2,\n",
    "    subset=\"validation\",\n",
    "    seed=SEED,\n",
    "    image_size=IMG_SIZE,\n",
    "    batch_size=BATCH_SIZE\n",
    ")\n",
    "\n",
    "class_names = train_ds.class_names\n",
    "num_classes = len(class_names)\n",
    "print(\"Classes:\", num_classes, class_names[:10])\n",
    "\n",
    "AUTOTUNE = tf.data.AUTOTUNE\n",
    "train_ds = train_ds.cache().shuffle(1000).prefetch(AUTOTUNE)\n",
    "val_ds = val_ds.cache().prefetch(AUTOTUNE)\n"
   ]
  },
  {
   "cell_type": "code",
   "execution_count": null,
   "metadata": {},
   "outputs": [],
   "source": [
    "norm = layers.Rescaling(1./255)\n",
    "aug = keras.Sequential([\n",
    "    layers.RandomFlip(\"horizontal\"),\n",
    "    layers.RandomRotation(0.05),\n",
    "    layers.RandomZoom(0.1),\n",
    "])\n"
   ]
  },
  {
   "cell_type": "code",
   "execution_count": 7,
   "metadata": {},
   "outputs": [
    {
     "name": "stdout",
     "output_type": "stream",
     "text": [
      "Epoch 1/5\n",
      "\u001b[1m491/491\u001b[0m \u001b[32m━━━━━━━━━━━━━━━━━━━━\u001b[0m\u001b[37m\u001b[0m \u001b[1m468s\u001b[0m 704ms/step - accuracy: 0.3430 - loss: 2.3892 - val_accuracy: 0.8322 - val_loss: 0.5254\n",
      "Epoch 2/5\n",
      "\u001b[1m491/491\u001b[0m \u001b[32m━━━━━━━━━━━━━━━━━━━━\u001b[0m\u001b[37m\u001b[0m \u001b[1m256s\u001b[0m 520ms/step - accuracy: 0.7626 - loss: 0.7425 - val_accuracy: 0.9250 - val_loss: 0.2533\n",
      "Epoch 3/5\n",
      "\u001b[1m491/491\u001b[0m \u001b[32m━━━━━━━━━━━━━━━━━━━━\u001b[0m\u001b[37m\u001b[0m \u001b[1m277s\u001b[0m 564ms/step - accuracy: 0.8588 - loss: 0.4393 - val_accuracy: 0.9556 - val_loss: 0.1476\n",
      "Epoch 4/5\n",
      "\u001b[1m491/491\u001b[0m \u001b[32m━━━━━━━━━━━━━━━━━━━━\u001b[0m\u001b[37m\u001b[0m \u001b[1m249s\u001b[0m 507ms/step - accuracy: 0.8908 - loss: 0.3352 - val_accuracy: 0.9707 - val_loss: 0.1043\n",
      "Epoch 5/5\n",
      "\u001b[1m491/491\u001b[0m \u001b[32m━━━━━━━━━━━━━━━━━━━━\u001b[0m\u001b[37m\u001b[0m \u001b[1m271s\u001b[0m 551ms/step - accuracy: 0.9094 - loss: 0.2855 - val_accuracy: 0.9754 - val_loss: 0.0980\n"
     ]
    }
   ],
   "source": [
    "def build_simple_cnn(input_shape, n_classes):\n",
    "    inputs = keras.Input(shape=input_shape)\n",
    "    x = norm(inputs)\n",
    "    x = aug(x)\n",
    "    x = layers.Conv2D(32, 3, activation=\"relu\")(x)\n",
    "    x = layers.MaxPooling2D()(x)\n",
    "    x = layers.Conv2D(64, 3, activation=\"relu\")(x)\n",
    "    x = layers.MaxPooling2D()(x)\n",
    "    x = layers.Conv2D(128, 3, activation=\"relu\")(x)\n",
    "    x = layers.MaxPooling2D()(x)\n",
    "    x = layers.Dropout(0.3)(x)\n",
    "    x = layers.Flatten()(x)\n",
    "    x = layers.Dense(128, activation=\"relu\")(x)\n",
    "    x = layers.Dropout(0.3)(x)\n",
    "    outputs = layers.Dense(n_classes, activation=\"softmax\")(x)\n",
    "    model = keras.Model(inputs, outputs)\n",
    "    model.compile(optimizer=\"adam\",\n",
    "                  loss=\"sparse_categorical_crossentropy\",\n",
    "                  metrics=[\"accuracy\"])\n",
    "    return model\n",
    "\n",
    "simple_cnn = build_simple_cnn(IMG_SIZE + (3,), num_classes)\n",
    "history = simple_cnn.fit(\n",
    "    train_ds,\n",
    "    validation_data=val_ds,\n",
    "    epochs=5,\n",
    "    verbose=1\n",
    ")\n"
   ]
  },
  {
   "cell_type": "code",
   "execution_count": 8,
   "metadata": {},
   "outputs": [
    {
     "name": "stdout",
     "output_type": "stream",
     "text": [
      "Epoch 1/5\n",
      "\u001b[1m491/491\u001b[0m \u001b[32m━━━━━━━━━━━━━━━━━━━━\u001b[0m\u001b[37m\u001b[0m \u001b[1m239s\u001b[0m 479ms/step - accuracy: 0.2973 - loss: 2.5710 - val_accuracy: 0.7569 - val_loss: 0.7898\n",
      "Epoch 2/5\n",
      "\u001b[1m491/491\u001b[0m \u001b[32m━━━━━━━━━━━━━━━━━━━━\u001b[0m\u001b[37m\u001b[0m \u001b[1m253s\u001b[0m 516ms/step - accuracy: 0.6990 - loss: 0.9288 - val_accuracy: 0.9078 - val_loss: 0.3453\n",
      "Epoch 3/5\n",
      "\u001b[1m491/491\u001b[0m \u001b[32m━━━━━━━━━━━━━━━━━━━━\u001b[0m\u001b[37m\u001b[0m \u001b[1m256s\u001b[0m 521ms/step - accuracy: 0.8081 - loss: 0.5940 - val_accuracy: 0.9314 - val_loss: 0.2368\n",
      "Epoch 4/5\n",
      "\u001b[1m491/491\u001b[0m \u001b[32m━━━━━━━━━━━━━━━━━━━━\u001b[0m\u001b[37m\u001b[0m \u001b[1m246s\u001b[0m 501ms/step - accuracy: 0.8455 - loss: 0.4774 - val_accuracy: 0.9443 - val_loss: 0.1872\n",
      "Epoch 5/5\n",
      "\u001b[1m491/491\u001b[0m \u001b[32m━━━━━━━━━━━━━━━━━━━━\u001b[0m\u001b[37m\u001b[0m \u001b[1m233s\u001b[0m 475ms/step - accuracy: 0.8669 - loss: 0.3945 - val_accuracy: 0.9598 - val_loss: 0.1409\n"
     ]
    }
   ],
   "source": [
    "def build_simple_cnn(input_shape, n_classes):\n",
    "    inputs = keras.Input(shape=input_shape)\n",
    "    x = norm(inputs)\n",
    "    x = aug(x)\n",
    "    x = layers.Conv2D(32, 3, activation=\"relu\")(x)\n",
    "    x = layers.MaxPooling2D()(x)\n",
    "    x = layers.Conv2D(64, 3, activation=\"relu\")(x)\n",
    "    x = layers.MaxPooling2D()(x)\n",
    "    x = layers.Conv2D(128, 3, activation=\"relu\")(x)\n",
    "    x = layers.MaxPooling2D()(x)\n",
    "    x = layers.Dropout(0.3)(x)\n",
    "    x = layers.Flatten()(x)\n",
    "    x = layers.Dense(128, activation=\"relu\")(x)\n",
    "    x = layers.Dropout(0.3)(x)\n",
    "    outputs = layers.Dense(n_classes, activation=\"softmax\")(x)\n",
    "    model = keras.Model(inputs, outputs)\n",
    "    model.compile(optimizer=\"adam\",\n",
    "                  loss=\"sparse_categorical_crossentropy\",\n",
    "                  metrics=[\"accuracy\"])\n",
    "    return model\n",
    "\n",
    "simple_cnn = build_simple_cnn(IMG_SIZE + (3,), num_classes)\n",
    "history = simple_cnn.fit(\n",
    "    train_ds,\n",
    "    validation_data=val_ds,\n",
    "    epochs=5,\n",
    "    verbose=1\n",
    ")\n"
   ]
  },
  {
   "cell_type": "code",
   "execution_count": 9,
   "metadata": {},
   "outputs": [
    {
     "name": "stdout",
     "output_type": "stream",
     "text": [
      "\n",
      "Simple CNN - classification report\n",
      "              precision    recall  f1-score   support\n",
      "\n",
      "           0       1.00      0.95      0.98        44\n",
      "           1       0.97      0.97      0.97       448\n",
      "           2       0.98      0.99      0.99       390\n",
      "           3       0.98      0.98      0.98       297\n",
      "           4       0.99      1.00      1.00       396\n",
      "           5       1.00      1.00      1.00       441\n",
      "           6       0.99      1.00      0.99       173\n",
      "           7       1.00      0.99      1.00       146\n",
      "           8       0.97      0.95      0.96        82\n",
      "           9       1.00      1.00      1.00       206\n",
      "          10       0.99      1.00      0.99       248\n",
      "          11       0.97      0.76      0.85        46\n",
      "          12       0.97      0.85      0.91       429\n",
      "          13       0.90      0.81      0.85        67\n",
      "          14       0.90      0.95      0.92        75\n",
      "          15       1.00      0.99      0.99        89\n",
      "          16       0.92      0.96      0.94        98\n",
      "          17       0.96      0.96      0.96        52\n",
      "          18       0.97      0.99      0.98       298\n",
      "          19       0.99      0.99      0.99       123\n",
      "          20       0.95      0.98      0.97        62\n",
      "          21       0.99      0.97      0.98       115\n",
      "          22       0.98      0.94      0.96        49\n",
      "          23       0.92      0.92      0.92       261\n",
      "          24       1.00      0.96      0.98       109\n",
      "          25       0.93      0.97      0.95       171\n",
      "          26       1.00      0.86      0.93        58\n",
      "          27       0.82      0.95      0.88       128\n",
      "          28       0.90      0.83      0.86        88\n",
      "          29       1.00      0.95      0.97       248\n",
      "          30       1.00      0.85      0.92        74\n",
      "          31       0.88      0.96      0.92        47\n",
      "          32       0.96      0.96      0.96       439\n",
      "          33       0.78      0.84      0.81        56\n",
      "          34       0.99      0.97      0.98       350\n",
      "          35       0.95      1.00      0.97        77\n",
      "          36       0.92      0.96      0.94        49\n",
      "          37       0.95      0.98      0.97        43\n",
      "          38       0.79      0.95      0.87       327\n",
      "          39       0.98      0.99      0.98        87\n",
      "          40       0.97      0.94      0.96       275\n",
      "          41       0.95      0.97      0.96       275\n",
      "          42       0.99      0.98      0.98       305\n",
      "\n",
      "    accuracy                           0.96      7841\n",
      "   macro avg       0.96      0.95      0.95      7841\n",
      "weighted avg       0.96      0.96      0.96      7841\n",
      "\n"
     ]
    },
    {
     "data": {
      "image/png": "[encoded data removed]",
      "text/plain": [
       "<Figure size 800x600 with 1 Axes>"
      ]
     },
     "metadata": {},
     "output_type": "display_data"
    }
   ],
   "source": [
    "y_true = []\n",
    "y_pred = []\n",
    "for imgs, labels in val_ds:\n",
    "    preds = simple_cnn.predict(imgs, verbose=0)\n",
    "    y_pred.extend(np.argmax(preds, axis=1))\n",
    "    y_true.extend(labels.numpy())\n",
    "y_true = np.array(y_true)\n",
    "y_pred = np.array(y_pred)\n",
    "\n",
    "print(\"\\nSimple CNN - classification report\")\n",
    "print(classification_report(y_true, y_pred, zero_division=0))\n",
    "\n",
    "cm = confusion_matrix(y_true, y_pred)\n",
    "plt.figure(figsize=(8,6))\n",
    "sns.heatmap(cm, cmap=\"Blues\", cbar=False)\n",
    "plt.title(\"Confusion Matrix - Simple CNN\")\n",
    "plt.xlabel(\"Predicted\")\n",
    "plt.ylabel(\"Actual\")\n",
    "plt.show()\n"
   ]
  },
  {
   "cell_type": "code",
   "execution_count": 10,
   "metadata": {},
   "outputs": [
    {
     "name": "stdout",
     "output_type": "stream",
     "text": [
      "WARNING:tensorflow:From c:\\Users\\zezoe\\AppData\\Local\\Programs\\Python\\Python310\\lib\\site-packages\\keras\\src\\backend\\tensorflow\\core.py:232: The name tf.placeholder is deprecated. Please use tf.compat.v1.placeholder instead.\n",
      "\n",
      "Downloading data from https://storage.googleapis.com/tensorflow/keras-applications/mobilenet_v2/mobilenet_v2_weights_tf_dim_ordering_tf_kernels_1.0_128_no_top.h5\n",
      "\u001b[1m9406464/9406464\u001b[0m \u001b[32m━━━━━━━━━━━━━━━━━━━━\u001b[0m\u001b[37m\u001b[0m \u001b[1m3s\u001b[0m 0us/step\n",
      "Epoch 1/3\n",
      "\u001b[1m491/491\u001b[0m \u001b[32m━━━━━━━━━━━━━━━━━━━━\u001b[0m\u001b[37m\u001b[0m \u001b[1m265s\u001b[0m 523ms/step - accuracy: 0.4596 - loss: 1.9257 - val_accuracy: 0.8063 - val_loss: 0.6401\n",
      "Epoch 2/3\n",
      "\u001b[1m491/491\u001b[0m \u001b[32m━━━━━━━━━━━━━━━━━━━━\u001b[0m\u001b[37m\u001b[0m \u001b[1m253s\u001b[0m 515ms/step - accuracy: 0.7613 - loss: 0.7282 - val_accuracy: 0.8546 - val_loss: 0.4578\n",
      "Epoch 3/3\n",
      "\u001b[1m491/491\u001b[0m \u001b[32m━━━━━━━━━━━━━━━━━━━━\u001b[0m\u001b[37m\u001b[0m \u001b[1m251s\u001b[0m 512ms/step - accuracy: 0.8173 - loss: 0.5613 - val_accuracy: 0.8693 - val_loss: 0.4050\n"
     ]
    }
   ],
   "source": [
    "from tensorflow.keras.applications import MobileNetV2\n",
    "from tensorflow.keras.applications.mobilenet_v2 import preprocess_input\n",
    "\n",
    "def build_mobilenet(input_shape, n_classes, train_base=False):\n",
    "    inputs = keras.Input(shape=input_shape)\n",
    "    x = layers.Lambda(preprocess_input)(inputs)\n",
    "    x = aug(x)\n",
    "    base = MobileNetV2(weights=\"imagenet\", include_top=False, input_shape=input_shape)\n",
    "    base.trainable = train_base\n",
    "    x = base(x)\n",
    "    x = layers.GlobalAveragePooling2D()(x)\n",
    "    x = layers.Dropout(0.3)(x)\n",
    "    outputs = layers.Dense(n_classes, activation=\"softmax\")(x)\n",
    "    model = keras.Model(inputs, outputs)\n",
    "    model.compile(optimizer=keras.optimizers.Adam(1e-3),\n",
    "                  loss=\"sparse_categorical_crossentropy\",\n",
    "                  metrics=[\"accuracy\"])\n",
    "    return model\n",
    "\n",
    "mobilenet = build_mobilenet(IMG_SIZE + (3,), num_classes, train_base=False)\n",
    "history_m = mobilenet.fit(\n",
    "    train_ds,\n",
    "    validation_data=val_ds,\n",
    "    epochs=3,\n",
    "    verbose=1\n",
    ")\n"
   ]
  },
  {
   "cell_type": "code",
   "execution_count": 11,
   "metadata": {},
   "outputs": [
    {
     "name": "stdout",
     "output_type": "stream",
     "text": [
      "\n",
      "MobileNetV2 - classification report\n",
      "              precision    recall  f1-score   support\n",
      "\n",
      "           0       0.97      0.73      0.83        44\n",
      "           1       0.81      0.80      0.80       448\n",
      "           2       0.93      0.89      0.91       390\n",
      "           3       0.97      0.79      0.87       297\n",
      "           4       1.00      0.98      0.99       396\n",
      "           5       0.99      1.00      0.99       441\n",
      "           6       1.00      1.00      1.00       173\n",
      "           7       0.99      0.97      0.98       146\n",
      "           8       1.00      0.91      0.96        82\n",
      "           9       1.00      1.00      1.00       206\n",
      "          10       0.93      0.92      0.93       248\n",
      "          11       0.95      0.87      0.91        46\n",
      "          12       0.77      0.73      0.75       429\n",
      "          13       0.74      0.90      0.81        67\n",
      "          14       0.79      0.91      0.84        75\n",
      "          15       0.84      0.94      0.89        89\n",
      "          16       0.86      0.79      0.82        98\n",
      "          17       0.89      0.92      0.91        52\n",
      "          18       0.73      0.94      0.82       298\n",
      "          19       0.80      0.95      0.87       123\n",
      "          20       0.91      0.68      0.78        62\n",
      "          21       0.97      0.68      0.80       115\n",
      "          22       0.88      0.92      0.90        49\n",
      "          23       0.90      0.38      0.54       261\n",
      "          24       0.97      0.89      0.93       109\n",
      "          25       0.98      0.85      0.91       171\n",
      "          26       1.00      0.91      0.95        58\n",
      "          27       0.87      0.85      0.86       128\n",
      "          28       0.92      0.76      0.83        88\n",
      "          29       0.90      0.99      0.95       248\n",
      "          30       0.91      0.92      0.91        74\n",
      "          31       0.95      0.85      0.90        47\n",
      "          32       0.92      0.98      0.95       439\n",
      "          33       1.00      0.77      0.87        56\n",
      "          34       0.69      0.87      0.77       350\n",
      "          35       0.97      0.97      0.97        77\n",
      "          36       0.96      0.92      0.94        49\n",
      "          37       0.95      0.95      0.95        43\n",
      "          38       0.67      0.82      0.74       327\n",
      "          39       0.92      0.99      0.96        87\n",
      "          40       0.72      0.92      0.81       275\n",
      "          41       0.92      0.64      0.75       275\n",
      "          42       0.83      0.97      0.89       305\n",
      "\n",
      "    accuracy                           0.87      7841\n",
      "   macro avg       0.90      0.87      0.88      7841\n",
      "weighted avg       0.88      0.87      0.87      7841\n",
      "\n"
     ]
    },
    {
     "data": {
      "image/png": "[encoded data removed]",
      "text/plain": [
       "<Figure size 800x600 with 1 Axes>"
      ]
     },
     "metadata": {},
     "output_type": "display_data"
    }
   ],
   "source": [
    "y_true_m = []\n",
    "y_pred_m = []\n",
    "for imgs, labels in val_ds:\n",
    "    preds = mobilenet.predict(imgs, verbose=0)\n",
    "    y_pred_m.extend(np.argmax(preds, axis=1))\n",
    "    y_true_m.extend(labels.numpy())\n",
    "y_true_m = np.array(y_true_m)\n",
    "y_pred_m = np.array(y_pred_m)\n",
    "\n",
    "print(\"\\nMobileNetV2 - classification report\")\n",
    "print(classification_report(y_true_m, y_pred_m, zero_division=0))\n",
    "\n",
    "cm2 = confusion_matrix(y_true_m, y_pred_m)\n",
    "plt.figure(figsize=(8,6))\n",
    "sns.heatmap(cm2, cmap=\"Greens\", cbar=False)\n",
    "plt.title(\"Confusion Matrix - MobileNetV2\")\n",
    "plt.xlabel(\"Predicted\")\n",
    "plt.ylabel(\"Actual\")\n",
    "plt.show()\n"
   ]
  }
 ],
 "metadata": {
  "kaggle": {
   "accelerator": "none",
   "dataSources": [
    {
     "datasetId": 82373,
     "sourceId": 191501,
     "sourceType": "datasetVersion"
    }
   ],
   "dockerImageVersionId": 31089,
   "isGpuEnabled": false,
   "isInternetEnabled": false,
   "language": "python",
   "sourceType": "notebook"
  },
  "kernelspec": {
   "display_name": "Python 3",
   "language": "python",
   "name": "python3"
  },
  "language_info": {
   "codemirror_mode": {
    "name": "ipython",
    "version": 3
   },
   "file_extension": ".py",
   "mimetype": "text/x-python",
   "name": "python",
   "nbconvert_exporter": "python",
   "pygments_lexer": "ipython3",
   "version": "3.10.6"
  }
 },
 "nbformat": 4,
 "nbformat_minor": 4
}
